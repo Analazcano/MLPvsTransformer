{
  "cells": [
    {
      "cell_type": "markdown",
      "source": [
        ">>>***Preparation of python libraries***\n"
      ],
      "metadata": {
        "id": "sYiXaezD_ATh"
      }
    },
    {
      "cell_type": "code",
      "execution_count": null,
      "metadata": {
        "id": "J4eqZB2uQJvQ"
      },
      "outputs": [],
      "source": [
        "import numpy\n",
        "import matplotlib.pyplot as plt\n",
        "import pandas as pd\n",
        "from pandas import read_csv\n",
        "import math\n",
        "from keras.models import Sequential\n",
        "from keras.layers import Dense"
      ]
    },
    {
      "cell_type": "code",
      "execution_count": null,
      "metadata": {
        "colab": {
          "background_save": true
        },
        "id": "ob2F9JgiQOXv"
      },
      "outputs": [],
      "source": [
        "\n",
        "dataframe = read_csv('Name of the file', usecols=[1], engine='python')\n",
        "dataset = dataframe.values[:,0:2]\n",
        "print(dataset)"
      ]
    },
    {
      "cell_type": "code",
      "execution_count": null,
      "metadata": {
        "colab": {
          "background_save": true
        },
        "id": "-N9-El2dKFgn"
      },
      "outputs": [],
      "source": [
        "dataset_invertida = list(dataframe['diario'])\n",
        "lista = list((dataset_invertida))\n",
        "dataset2 = pd.DataFrame()\n",
        "dataset2['Price'] = lista\n",
        "valores_nulos = dataset2.isnull().sum()\n",
        "dataset2 = dataset2.dropna()\n",
        "dataset=dataset2.values[:,0:2]"
      ]
    },
    {
      "cell_type": "markdown",
      "source": [
        ">>>***INPUT DATA PROCESSING***\n"
      ],
      "metadata": {
        "id": "7UIXsoYe_UmS"
      }
    },
    {
      "cell_type": "code",
      "execution_count": null,
      "metadata": {
        "id": "TMtcwgrfQR2H"
      },
      "outputs": [],
      "source": [
        "\n",
        "train_size = int(len(dataset) * 0.8)\n",
        "test_size = len(dataset) - train_size\n",
        "train, test = dataset[0:train_size,:], dataset[train_size:len(dataset),:]\n",
        "print(len(train), len(test))"
      ]
    },
    {
      "cell_type": "markdown",
      "source": [
        "*** Data normalization***"
      ],
      "metadata": {
        "id": "qj__2dxo_f9C"
      }
    },
    {
      "cell_type": "code",
      "execution_count": null,
      "metadata": {
        "id": "3FN-lZnzQXU5"
      },
      "outputs": [],
      "source": [
        "def create_dataset(dataset, look_back=1):\n",
        "  dataX, dataY = [], []\n",
        "  for i in range(len(dataset)-look_back-1):\n",
        "    a = dataset[i:(i+look_back), 0]\n",
        "    dataX.append(a)\n",
        "    dataY.append(dataset[i + look_back, 0])\n",
        "  return numpy.array(dataX), numpy.array(dataY)"
      ]
    },
    {
      "cell_type": "code",
      "execution_count": null,
      "metadata": {
        "id": "vRPUpQ2sQapp"
      },
      "outputs": [],
      "source": [
        "look_back = 1\n",
        "trainX, trainY = create_dataset(train, look_back)\n",
        "testX, testY = create_dataset(test, look_back)"
      ]
    },
    {
      "cell_type": "markdown",
      "source": [
        ">>>***MODEL GENERATION***"
      ],
      "metadata": {
        "id": "SdlNi7hX_lJR"
      }
    },
    {
      "cell_type": "code",
      "execution_count": null,
      "metadata": {
        "colab": {
          "background_save": true
        },
        "id": "Iw2YGcbiQdl7"
      },
      "outputs": [],
      "source": [
        "model = Sequential()\n",
        "model.add(Dense(100, input_dim=look_back, activation='relu'))\n",
        "model.add(Dense(50, activation='relu'))\n",
        "model.add(Dense(1))\n",
        "model.compile(loss='mean_squared_error', optimizer='adam')\n",
        "model.fit(trainX, trainY, epochs=75, batch_size=5, verbose=2)"
      ]
    },
    {
      "cell_type": "code",
      "execution_count": null,
      "metadata": {
        "colab": {
          "background_save": true
        },
        "id": "AMc46uDG8diQ"
      },
      "outputs": [],
      "source": [
        "from keras.layers import *\n",
        "from keras.models import Model\n",
        "import tensorflow as tf\n",
        "results=model.predict([testX])"
      ]
    },
    {
      "cell_type": "code",
      "execution_count": null,
      "metadata": {
        "colab": {
          "background_save": true
        },
        "id": "i4Grf3YkQhvg"
      },
      "outputs": [],
      "source": [
        "testX_flat = testX.flatten()\n",
        "testY_flat = testY.flatten()\n",
        "pcompara = pd.DataFrame({'real': testX_flat, 'prediccion': testY_flat})\n",
        "pcompara.columns = ['real', 'prediccion']\n",
        "pcompara['diferencia'] = pcompara['real'] - pcompara['prediccion']\n",
        "pcompara.head()\n",
        "pcompara['real'].plot()\n",
        "pcompara['prediccion'].plot()\n",
        "pcompara.to_csv('Name of the file.csv')\n"
      ]
    }
  ],
  "metadata": {
    "colab": {
      "provenance": []
    },
    "kernelspec": {
      "display_name": "Python 3",
      "name": "python3"
    },
    "language_info": {
      "name": "python"
    }
  },
  "nbformat": 4,
  "nbformat_minor": 0
}